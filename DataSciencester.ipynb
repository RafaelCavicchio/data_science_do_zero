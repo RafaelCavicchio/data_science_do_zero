{
  "cells": [
    {
      "cell_type": "markdown",
      "metadata": {
        "id": "view-in-github",
        "colab_type": "text"
      },
      "source": [
        "<a href=\"https://colab.research.google.com/github/RafaelCavicchio/data_science_do_zero/blob/main/DataSciencester.ipynb\" target=\"_parent\"><img src=\"https://colab.research.google.com/assets/colab-badge.svg\" alt=\"Open In Colab\"/></a>"
      ]
    },
    {
      "cell_type": "markdown",
      "source": [
        "# Capítulo 3\n",
        "Visualizando dados"
      ],
      "metadata": {
        "id": "Ku2Y29eIAny8"
      },
      "id": "Ku2Y29eIAny8"
    },
    {
      "cell_type": "markdown",
      "source": [
        "## Gráfico de barras pg.48\n",
        "boa opção para mostrar variação de quantidade em um conjunto discreto de itens"
      ],
      "metadata": {
        "id": "BCJHRKoM2_8S"
      },
      "id": "BCJHRKoM2_8S"
    },
    {
      "cell_type": "code",
      "source": [
        "from matplotlib import pyplot as plt\n",
        "from collections import Counter\n",
        "\n",
        "grades = [83, 95, 91, 87, 70, 0, 85, 82, 100, 67, 73, 77, 0]\n",
        "\n",
        "#Agrupe as notas por decil, mas coloque o 100 com o 90\n",
        "histogram = Counter(min(grade // 10 * 10, 90) for grade in grades)\n",
        "\n",
        "print(histogram.keys())\n",
        "plt.bar([x + 5 for x in histogram.keys()], #move as barras para a direita em 5\n",
        "        histogram.values(), #Atribua a altura correta a cada barra\n",
        "        10, #largura 10 a cada barra\n",
        "        edgecolor=(0, 0, 0)) #Escurece as bordas das barras\n",
        "\n",
        "plt.axis([-5, 105, 0, 5]) #eixo x de -5 a 105 e eixo y de 0 a 5\n",
        "\n",
        "plt.xticks([10 * i for i in range(11)]) #rótulos do eixo x em 0,10 ...., 100\n",
        "plt.xlabel(\"Decil\")\n",
        "plt.ylabel(\"# de Alunos\")\n",
        "plt.title(\"Distribuição das Notas do Teste 1\")\n",
        "plt.show()"
      ],
      "metadata": {
        "id": "paieWVXOyENk"
      },
      "id": "paieWVXOyENk",
      "execution_count": null,
      "outputs": []
    },
    {
      "cell_type": "markdown",
      "source": [
        "## Gráfico de linhas pg.50\n",
        "boa opção para mostrar tendências"
      ],
      "metadata": {
        "id": "p_YgJEMX3m-j"
      },
      "id": "p_YgJEMX3m-j"
    },
    {
      "cell_type": "code",
      "source": [
        "variance = [1, 2, 4, 8, 16, 32, 64, 128, 256]\n",
        "bias_squared = [256, 128, 64, 32, 16, 8, 4, 2, 1]\n",
        "total_error = [x + y for x, y in zip(variance, bias_squared)]\n",
        "xs = [i for i, _ in enumerate(variance)]\n",
        "\n",
        "#podemos fazer varias chamadas para plt.plot para mostrar múltiplas séries no mesmo gráfico\n",
        "plt.plot(xs, variance, 'g-', label='variance')\n",
        "plt.plot(xs, bias_squared, 'r-.', label='bias^2')\n",
        "plt.plot(xs, total_error, 'b:', label='total error')\n",
        "\n",
        "#como atribuimos rotulos a cada serie, podemos criar uma legenda de graça (loc=9 é igual a \"top center\")\n",
        "plt.legend(loc=9)\n",
        "plt.xlabel(\"complexidade do modelo\")\n",
        "plt.xticks([])\n",
        "plt.title(\"Acurácia do Modelo\")\n",
        "plt.show()"
      ],
      "metadata": {
        "id": "TwAvijOK3rTa"
      },
      "id": "TwAvijOK3rTa",
      "execution_count": null,
      "outputs": []
    },
    {
      "cell_type": "code",
      "source": [],
      "metadata": {
        "id": "jwXKe8La7rEz"
      },
      "id": "jwXKe8La7rEz",
      "execution_count": null,
      "outputs": []
    },
    {
      "cell_type": "markdown",
      "source": [
        "## Gráfico de dispersão\n",
        "representar as relações entre pares de conjunto de dados ex: relação entre amigos dos usuários e os minutos que eles passam no site por dia"
      ],
      "metadata": {
        "id": "JecKci1y76NT"
      },
      "id": "JecKci1y76NT"
    },
    {
      "cell_type": "code",
      "source": [
        "friends = [70, 65, 72, 63, 71, 64, 60, 64, 67]\n",
        "minutes = [175, 170, 205, 120, 220, 130, 105, 145, 190]\n",
        "labels = ['a', 'b', 'c', 'd', 'e', 'f', 'g', 'h', 'i']\n",
        "\n",
        "plt.scatter(friends, minutes)\n",
        "\n",
        "#nomeia cada ponto\n",
        "for label, friend_count, minute_count in zip(labels, friends, minutes):\n",
        "    plt.annotate(label,\n",
        "                 xy=(friend_count, minute_count), # Coloque o rótulo no respectivo ponto\n",
        "                 xytext=(5, -5), #mas levemente deslocado\n",
        "                 textcoords='offset points')\n",
        "\n",
        "plt.title(\"Minutos Diários vs. Número de Amigos\")\n",
        "plt.xlabel(\"# de amigos\")\n",
        "plt.ylabel(\"minutos diários passados no site\")\n",
        "plt.show()"
      ],
      "metadata": {
        "id": "src2wZhd8TJS"
      },
      "id": "src2wZhd8TJS",
      "execution_count": null,
      "outputs": []
    },
    {
      "cell_type": "code",
      "source": [
        "for label, friend_count, minute_count in zip(labels, friends, minutes):\n",
        "  print(label, friend_count, minute_count)"
      ],
      "metadata": {
        "id": "xNSBx7IQ83Vj"
      },
      "id": "xNSBx7IQ83Vj",
      "execution_count": null,
      "outputs": []
    },
    {
      "cell_type": "code",
      "source": [],
      "metadata": {
        "id": "lZvvGHVb-8uE"
      },
      "id": "lZvvGHVb-8uE",
      "execution_count": null,
      "outputs": []
    },
    {
      "cell_type": "markdown",
      "source": [
        "# Capítulo 4\n",
        "Álgebra Linear\n",
        "ramo da matemática que calcula espaços vetoriais"
      ],
      "metadata": {
        "id": "JgSR9J3oBEax"
      },
      "id": "JgSR9J3oBEax"
    },
    {
      "cell_type": "code",
      "source": [
        "from typing import List\n",
        "\n",
        "\n",
        "Vector = List[float]\n",
        "\n",
        "height_weight_age = [70, #polegadas\n",
        "                     170, #libras\n",
        "                     40] #anos\n",
        "grades = [95, #teste1\n",
        "          80, #teste2\n",
        "          75, #teste3\n",
        "          62] #teste4\n",
        "\n",
        "def add(v: Vector, w: Vector) -> Vector:\n",
        "  \"\"\"Soma os elementos correspondentes\"\"\"\n",
        "  assert len(v) == len(w), \"vetores devem ser do mesmo comprimento\"\n",
        "  return [v_i + w_i for v_i, w_i in zip(v, w)]\n",
        "\n",
        "assert add([1,2,3], [4,5,6]) == [5,7,9]\n",
        "\n",
        "def subtract(v: Vector, w: Vector) -> Vector:\n",
        "  \"\"\"Subtrai os elementos correspondentes\"\"\"\n",
        "  assert len(v) == len(w), \"vetores devem ser do mesmo comprimento\"\n",
        "  return [v_i - w_i for v_i, w_i in zip(v, w)]\n",
        "\n",
        "assert subtract([5,7,9], [4,5,6]) == [1,2,3]\n",
        "\n",
        "def vector_sum(Vectors: List[Vector]) -> Vector:\n",
        "  \"\"\"Soma todos os elementos correspondentes\"\"\"\n",
        "  #verifica se os vetores não estão vazios\n",
        "  assert Vectors, \"não pode somar vetores vazios\"\n",
        "\n",
        "  #verificque se os vetores são do mesmo tamanho\n",
        "  num_elements = len(Vectors[0])\n",
        "  assert all(len(v) == num_elements for v in Vectors), \"vetores devem ser do mesmo comprimento\"\n",
        "\n",
        "  #o elemento de Nº i do resultado é a soma de todo vector[i]\n",
        "  return [sum(vector[i] for vector in Vectors) for i in range(num_elements)]\n",
        "\n",
        "assert vector_sum([[1,2], [3,4], [5,6], [7,8]]) == [16,20]\n",
        "\n",
        "def multiplicar_escalar(c: float, v: Vector) -> Vector :\n",
        "  return [c * v_i for v_i in v]\n",
        "\n",
        "assert multiplicar_escalar(2, [1,2,3]) == [2,4,6]\n",
        "\n",
        "def media_vetores(vectors = List[Vector]) -> Vector:\n",
        "  n = len(vectors)\n",
        "  return multiplicar_escalar(1/n, vector_sum(vectors))\n",
        "\n",
        "assert media_vetores([[1,2], [3,4], [5,6]]) == [3,4]\n",
        "\n"
      ],
      "metadata": {
        "id": "AnVtJ0XIBJ16"
      },
      "id": "AnVtJ0XIBJ16",
      "execution_count": 94,
      "outputs": []
    }
  ],
  "metadata": {
    "kernelspec": {
      "display_name": "Python 3 (ipykernel)",
      "language": "python",
      "name": "python3"
    },
    "language_info": {
      "codemirror_mode": {
        "name": "ipython",
        "version": 3
      },
      "file_extension": ".py",
      "mimetype": "text/x-python",
      "name": "python",
      "nbconvert_exporter": "python",
      "pygments_lexer": "ipython3",
      "version": "3.12.7"
    },
    "colab": {
      "provenance": [],
      "include_colab_link": true
    }
  },
  "nbformat": 4,
  "nbformat_minor": 5
}