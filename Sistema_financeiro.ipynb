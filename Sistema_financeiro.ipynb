{
  "cells": [
    {
      "cell_type": "code",
      "source": [
        "s = \"abc\"\n",
        "\n",
        "first_char = s and s[0] or \"default\"\n",
        "print(first_char)"
      ],
      "metadata": {
        "id": "x1qpQ4BDI_4j",
        "outputId": "12d7e991-c6ce-4975-b871-ed94d70422ef",
        "colab": {
          "base_uri": "https://localhost:8080/"
        }
      },
      "id": "x1qpQ4BDI_4j",
      "execution_count": 22,
      "outputs": [
        {
          "output_type": "stream",
          "name": "stdout",
          "text": [
            "a\n"
          ]
        }
      ]
    },
    {
      "cell_type": "code",
      "source": [
        "x = [(x,y)\n",
        "      for x in range(10)\n",
        "      for y in range(1,3)]\n",
        "\n",
        "print(x)"
      ],
      "metadata": {
        "id": "FPX3SFo3QZE3",
        "outputId": "3d76cd1b-2d50-472e-88df-0b7765e0f1fa",
        "colab": {
          "base_uri": "https://localhost:8080/"
        }
      },
      "id": "FPX3SFo3QZE3",
      "execution_count": 55,
      "outputs": [
        {
          "output_type": "stream",
          "name": "stdout",
          "text": [
            "[(0, 1), (0, 2), (1, 1), (1, 2), (2, 1), (2, 2), (3, 1), (3, 2), (4, 1), (4, 2), (5, 1), (5, 2), (6, 1), (6, 2), (7, 1), (7, 2), (8, 1), (8, 2), (9, 1), (9, 2)]\n"
          ]
        }
      ]
    }
  ],
  "metadata": {
    "kernelspec": {
      "display_name": "Python 3 (ipykernel)",
      "language": "python",
      "name": "python3"
    },
    "language_info": {
      "codemirror_mode": {
        "name": "ipython",
        "version": 3
      },
      "file_extension": ".py",
      "mimetype": "text/x-python",
      "name": "python",
      "nbconvert_exporter": "python",
      "pygments_lexer": "ipython3",
      "version": "3.12.7"
    },
    "colab": {
      "provenance": []
    }
  },
  "nbformat": 4,
  "nbformat_minor": 5
}